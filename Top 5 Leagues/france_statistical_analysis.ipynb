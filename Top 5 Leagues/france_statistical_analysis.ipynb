{
 "cells": [
  {
   "cell_type": "markdown",
   "metadata": {},
   "source": [
    "## Top 5 Leagues historical goals: France recent changes"
   ]
  },
  {
   "cell_type": "markdown",
   "metadata": {},
   "source": [
    "### Import relevant libraries"
   ]
  },
  {
   "cell_type": "code",
   "execution_count": 225,
   "metadata": {},
   "outputs": [],
   "source": [
    "import pandas as pd\n",
    "from scipy import stats\n",
    "import numpy as np"
   ]
  },
  {
   "cell_type": "markdown",
   "metadata": {},
   "source": [
    "### Load the CSV file with the data"
   ]
  },
  {
   "cell_type": "code",
   "execution_count": 203,
   "metadata": {},
   "outputs": [],
   "source": [
    "# Read Top 5 Leagues 25 Countries CSV file\n",
    "df = pd.read_csv(r\"C:\\Users\\jprey\\OneDrive\\Escritorio\\JP\\KUL\\5th Semester (Polimi)\\MIT IDSS\\Practice Projects\\Top 5 Leagues\\top_5_leagues_25_countries_cumulative.csv\")\n",
    "\n",
    "# Create a sub-dataframe that includes only the 5 nations with the most overall goals between 2004-2014\n",
    "previous_ten_years = df.iloc[:5, [0,42,43,44,45,46,47,48,49,50,51]]\n",
    "# Add a column with its mean\n",
    "previous_ten_years['Mean'] = previous_ten_years.iloc[:, 1:].mean(axis=1)\n",
    "\n",
    "# Create a sub-dataframe that includes only the 5 nations with the most overall goals between 2014-2024\n",
    "this_ten_years = df.iloc[:5,[0,52,53,54,55,56,57,58,59,60,61]]\n",
    "# Add a column with its mean\n",
    "this_ten_years['Mean'] = this_ten_years.iloc[:, 1:].mean(axis=1)\n"
   ]
  },
  {
   "cell_type": "code",
   "execution_count": 134,
   "metadata": {},
   "outputs": [
    {
     "data": {
      "text/html": [
       "<div>\n",
       "<style scoped>\n",
       "    .dataframe tbody tr th:only-of-type {\n",
       "        vertical-align: middle;\n",
       "    }\n",
       "\n",
       "    .dataframe tbody tr th {\n",
       "        vertical-align: top;\n",
       "    }\n",
       "\n",
       "    .dataframe thead th {\n",
       "        text-align: right;\n",
       "    }\n",
       "</style>\n",
       "<table border=\"1\" class=\"dataframe\">\n",
       "  <thead>\n",
       "    <tr style=\"text-align: right;\">\n",
       "      <th></th>\n",
       "      <th>Countries</th>\n",
       "      <th>2004-2005</th>\n",
       "      <th>2005-2006</th>\n",
       "      <th>2006-2007</th>\n",
       "      <th>2007-2008</th>\n",
       "      <th>2008-2009</th>\n",
       "      <th>2009-2010</th>\n",
       "      <th>2010-2011</th>\n",
       "      <th>2011-2012</th>\n",
       "      <th>2012-2013</th>\n",
       "      <th>2013-2014</th>\n",
       "      <th>Mean</th>\n",
       "    </tr>\n",
       "  </thead>\n",
       "  <tbody>\n",
       "    <tr>\n",
       "      <th>0</th>\n",
       "      <td>Germany</td>\n",
       "      <td>317</td>\n",
       "      <td>327</td>\n",
       "      <td>302</td>\n",
       "      <td>292</td>\n",
       "      <td>295</td>\n",
       "      <td>312</td>\n",
       "      <td>348</td>\n",
       "      <td>365</td>\n",
       "      <td>437</td>\n",
       "      <td>390</td>\n",
       "      <td>338.5</td>\n",
       "    </tr>\n",
       "    <tr>\n",
       "      <th>1</th>\n",
       "      <td>England</td>\n",
       "      <td>367</td>\n",
       "      <td>355</td>\n",
       "      <td>323</td>\n",
       "      <td>327</td>\n",
       "      <td>310</td>\n",
       "      <td>342</td>\n",
       "      <td>320</td>\n",
       "      <td>323</td>\n",
       "      <td>290</td>\n",
       "      <td>320</td>\n",
       "      <td>327.7</td>\n",
       "    </tr>\n",
       "    <tr>\n",
       "      <th>2</th>\n",
       "      <td>France</td>\n",
       "      <td>482</td>\n",
       "      <td>438</td>\n",
       "      <td>443</td>\n",
       "      <td>519</td>\n",
       "      <td>503</td>\n",
       "      <td>457</td>\n",
       "      <td>467</td>\n",
       "      <td>507</td>\n",
       "      <td>584</td>\n",
       "      <td>531</td>\n",
       "      <td>493.1</td>\n",
       "    </tr>\n",
       "    <tr>\n",
       "      <th>3</th>\n",
       "      <td>Spain</td>\n",
       "      <td>513</td>\n",
       "      <td>491</td>\n",
       "      <td>457</td>\n",
       "      <td>500</td>\n",
       "      <td>587</td>\n",
       "      <td>574</td>\n",
       "      <td>513</td>\n",
       "      <td>546</td>\n",
       "      <td>626</td>\n",
       "      <td>619</td>\n",
       "      <td>542.6</td>\n",
       "    </tr>\n",
       "    <tr>\n",
       "      <th>4</th>\n",
       "      <td>Italy</td>\n",
       "      <td>635</td>\n",
       "      <td>626</td>\n",
       "      <td>673</td>\n",
       "      <td>664</td>\n",
       "      <td>616</td>\n",
       "      <td>569</td>\n",
       "      <td>522</td>\n",
       "      <td>475</td>\n",
       "      <td>488</td>\n",
       "      <td>474</td>\n",
       "      <td>574.2</td>\n",
       "    </tr>\n",
       "  </tbody>\n",
       "</table>\n",
       "</div>"
      ],
      "text/plain": [
       "  Countries  2004-2005  2005-2006  2006-2007  2007-2008  2008-2009  2009-2010  \\\n",
       "0   Germany        317        327        302        292        295        312   \n",
       "1   England        367        355        323        327        310        342   \n",
       "2    France        482        438        443        519        503        457   \n",
       "3     Spain        513        491        457        500        587        574   \n",
       "4     Italy        635        626        673        664        616        569   \n",
       "\n",
       "   2010-2011  2011-2012  2012-2013  2013-2014   Mean  \n",
       "0        348        365        437        390  338.5  \n",
       "1        320        323        290        320  327.7  \n",
       "2        467        507        584        531  493.1  \n",
       "3        513        546        626        619  542.6  \n",
       "4        522        475        488        474  574.2  "
      ]
     },
     "execution_count": 134,
     "metadata": {},
     "output_type": "execute_result"
    }
   ],
   "source": [
    "previous_ten_years"
   ]
  },
  {
   "cell_type": "code",
   "execution_count": 135,
   "metadata": {},
   "outputs": [
    {
     "data": {
      "text/html": [
       "<div>\n",
       "<style scoped>\n",
       "    .dataframe tbody tr th:only-of-type {\n",
       "        vertical-align: middle;\n",
       "    }\n",
       "\n",
       "    .dataframe tbody tr th {\n",
       "        vertical-align: top;\n",
       "    }\n",
       "\n",
       "    .dataframe thead th {\n",
       "        text-align: right;\n",
       "    }\n",
       "</style>\n",
       "<table border=\"1\" class=\"dataframe\">\n",
       "  <thead>\n",
       "    <tr style=\"text-align: right;\">\n",
       "      <th></th>\n",
       "      <th>Countries</th>\n",
       "      <th>2014-2015</th>\n",
       "      <th>2015-2016</th>\n",
       "      <th>2016-2017</th>\n",
       "      <th>2017-2018</th>\n",
       "      <th>2018-2019</th>\n",
       "      <th>2019-2020</th>\n",
       "      <th>2020-2021</th>\n",
       "      <th>2021-2022</th>\n",
       "      <th>2022-2023</th>\n",
       "      <th>2023-2024</th>\n",
       "      <th>Mean</th>\n",
       "    </tr>\n",
       "  </thead>\n",
       "  <tbody>\n",
       "    <tr>\n",
       "      <th>0</th>\n",
       "      <td>Germany</td>\n",
       "      <td>370</td>\n",
       "      <td>360</td>\n",
       "      <td>360</td>\n",
       "      <td>390</td>\n",
       "      <td>384</td>\n",
       "      <td>364</td>\n",
       "      <td>351</td>\n",
       "      <td>365</td>\n",
       "      <td>419</td>\n",
       "      <td>440</td>\n",
       "      <td>380.3</td>\n",
       "    </tr>\n",
       "    <tr>\n",
       "      <th>1</th>\n",
       "      <td>England</td>\n",
       "      <td>297</td>\n",
       "      <td>297</td>\n",
       "      <td>291</td>\n",
       "      <td>275</td>\n",
       "      <td>284</td>\n",
       "      <td>366</td>\n",
       "      <td>372</td>\n",
       "      <td>358</td>\n",
       "      <td>387</td>\n",
       "      <td>459</td>\n",
       "      <td>338.6</td>\n",
       "    </tr>\n",
       "    <tr>\n",
       "      <th>2</th>\n",
       "      <td>France</td>\n",
       "      <td>514</td>\n",
       "      <td>552</td>\n",
       "      <td>603</td>\n",
       "      <td>515</td>\n",
       "      <td>614</td>\n",
       "      <td>493</td>\n",
       "      <td>614</td>\n",
       "      <td>700</td>\n",
       "      <td>681</td>\n",
       "      <td>568</td>\n",
       "      <td>585.4</td>\n",
       "    </tr>\n",
       "    <tr>\n",
       "      <th>3</th>\n",
       "      <td>Spain</td>\n",
       "      <td>556</td>\n",
       "      <td>573</td>\n",
       "      <td>647</td>\n",
       "      <td>584</td>\n",
       "      <td>608</td>\n",
       "      <td>600</td>\n",
       "      <td>613</td>\n",
       "      <td>618</td>\n",
       "      <td>503</td>\n",
       "      <td>546</td>\n",
       "      <td>584.8</td>\n",
       "    </tr>\n",
       "    <tr>\n",
       "      <th>4</th>\n",
       "      <td>Italy</td>\n",
       "      <td>433</td>\n",
       "      <td>439</td>\n",
       "      <td>472</td>\n",
       "      <td>431</td>\n",
       "      <td>417</td>\n",
       "      <td>424</td>\n",
       "      <td>374</td>\n",
       "      <td>392</td>\n",
       "      <td>310</td>\n",
       "      <td>321</td>\n",
       "      <td>401.3</td>\n",
       "    </tr>\n",
       "  </tbody>\n",
       "</table>\n",
       "</div>"
      ],
      "text/plain": [
       "  Countries  2014-2015  2015-2016  2016-2017  2017-2018  2018-2019  2019-2020  \\\n",
       "0   Germany        370        360        360        390        384        364   \n",
       "1   England        297        297        291        275        284        366   \n",
       "2    France        514        552        603        515        614        493   \n",
       "3     Spain        556        573        647        584        608        600   \n",
       "4     Italy        433        439        472        431        417        424   \n",
       "\n",
       "   2020-2021  2021-2022  2022-2023  2023-2024   Mean  \n",
       "0        351        365        419        440  380.3  \n",
       "1        372        358        387        459  338.6  \n",
       "2        614        700        681        568  585.4  \n",
       "3        613        618        503        546  584.8  \n",
       "4        374        392        310        321  401.3  "
      ]
     },
     "execution_count": 135,
     "metadata": {},
     "output_type": "execute_result"
    }
   ],
   "source": [
    "this_ten_years"
   ]
  },
  {
   "cell_type": "markdown",
   "metadata": {},
   "source": [
    "### Extract the data relevant to France"
   ]
  },
  {
   "cell_type": "code",
   "execution_count": 235,
   "metadata": {},
   "outputs": [],
   "source": [
    "# Extract the France values for the seasons 2004-2014 in a dataframe\n",
    "france_previous_ten_years = previous_ten_years.iloc[2:3, [1,2,3,4,5,6,7,8,9,10]].iloc[0]\n",
    "# Extract the France values for the seasons 2014-2024 in a dataframe\n",
    "france_this_ten_years = this_ten_years.iloc[2:3, [1,2,3,4,5,6,7,8,9,10]].iloc[0]"
   ]
  },
  {
   "cell_type": "markdown",
   "metadata": {},
   "source": [
    "### T-test for two samples\n",
    "\n",
    "We want to perform a t-test for two samples to check whether the mean goals of France have increased in this last 10 years compared to the previous last 10 years (2004-2014). To do so, we have to make sure that:\n",
    "- The samples are independent between each other and random\n",
    "    - This is true because each year has different goals that do not depend on historical data. Moreover, the goals scored per season can be approximated to random since they depend on the players' performance year by year.\n",
    "- The samples are assumed to be normally distributed\n",
    "    - A Shapiro-Wilk test will be performed to determine this.\n",
    "- The variances are equal.\n",
    "    - Levene's test can be performed to determine this.\n",
    "\n",
    "**We will consider a level of significance of 0.05**"
   ]
  },
  {
   "cell_type": "code",
   "execution_count": 233,
   "metadata": {},
   "outputs": [],
   "source": [
    "alpha = 0.05"
   ]
  },
  {
   "cell_type": "markdown",
   "metadata": {},
   "source": [
    "#### Assess for normality: Shapiro-Wilk test\n",
    "For each sample: if the p-value is higher than alpha, then the null hypothesis stating that the sample follows a normal distribution cannot be rejected, i.e., the sample is normally distributed if p-value > alpha."
   ]
  },
  {
   "cell_type": "code",
   "execution_count": 238,
   "metadata": {},
   "outputs": [
    {
     "name": "stdout",
     "output_type": "stream",
     "text": [
      "Shapiro-Wilk Test for France's goals from 2004 to 2014: W = 0.9478259459792676 , p-value = 0.6428542654489622\n",
      "Shapiro-Wilk Test for France's goals from 2014 to 2024: W = 0.9403216198196231 , p-value = 0.556597672066893\n",
      "Both samples are normally distributed? True\n"
     ]
    }
   ],
   "source": [
    "# Shapiro test parameters for the previous last ten years (2004-2014)\n",
    "shapiro_france_previous_ten_years = stats.shapiro(france_previous_ten_years)\n",
    "p_value_previous_ten_years = shapiro_france_previous_ten_years.pvalue\n",
    "print(\"Shapiro-Wilk Test for France's goals from 2004 to 2014: W =\", shapiro_france_previous_ten_years.statistic, \", p-value =\", p_value_previous_ten_years)\n",
    "\n",
    "# Shapiro test parameters for this last ten years (2014-2024)\n",
    "shapiro_france_this_ten_years = stats.shapiro(france_this_ten_years)\n",
    "p_value_this_ten_years = shapiro_france_this_ten_years.pvalue\n",
    "print(\"Shapiro-Wilk Test for France's goals from 2014 to 2024: W =\", shapiro_france_this_ten_years.statistic, \", p-value =\", p_value_this_ten_years)\n",
    "\n",
    "# Conclusion\n",
    "print(\"Both samples are normally distributed?\", p_value_previous_ten_years > alpha and p_value_this_ten_years > alpha)\n",
    "\n"
   ]
  },
  {
   "cell_type": "markdown",
   "metadata": {},
   "source": [
    "##### Therefore, the samples are normally distributed."
   ]
  },
  {
   "cell_type": "markdown",
   "metadata": {},
   "source": [
    "#### Assess for equal variances: Levene's test\n",
    "We execute the test simultaneously for both samples: if the p-value is higher than alpha, then the null hypothesis stating that the variances of the samples are equal cannot be rejected, i.e., the samples' variances are equal if p-value > alpha."
   ]
  },
  {
   "cell_type": "code",
   "execution_count": 243,
   "metadata": {},
   "outputs": [
    {
     "name": "stdout",
     "output_type": "stream",
     "text": [
      "Levene's Test for both samples: Statistic = 2.358587346422444 , p-value = 0.14198606565081504\n",
      "Both samples' variances are equal? True\n"
     ]
    }
   ],
   "source": [
    "# We execute Levene's test using our two datasets.\n",
    "levene_test = stats.levene(france_previous_ten_years, france_this_ten_years)\n",
    "p_value_levene_test = levene_test.pvalue\n",
    "print(\"Levene's Test for both samples: Statistic =\", levene_test.statistic, \", p-value =\", p_value_levene_test)\n",
    "\n",
    "# Conclusion\n",
    "print(\"Both samples' variances are equal?\", p_value_levene_test > alpha)"
   ]
  },
  {
   "cell_type": "markdown",
   "metadata": {},
   "source": [
    "##### Therefore, the samples' variances are equal."
   ]
  },
  {
   "cell_type": "markdown",
   "metadata": {},
   "source": [
    "#### The samples are independent, randomly selected, uniformly distributed and have equal variances."
   ]
  },
  {
   "cell_type": "markdown",
   "metadata": {},
   "source": [
    "### Let's perform the t-test for two samples\n",
    "- **Null Hypothesis (\\(H_0\\))**: \\( \\mu_A \\leq \\mu_B \\) (the mean of dataset A is less than or equal to the mean of dataset B)\n",
    "- **Alternative Hypothesis (\\(H_a\\))**: \\( \\mu_A > \\mu_B \\) (the mean of dataset A is greater than the mean of dataset B)\n"
   ]
  }
 ],
 "metadata": {
  "kernelspec": {
   "display_name": "Python 3",
   "language": "python",
   "name": "python3"
  },
  "language_info": {
   "codemirror_mode": {
    "name": "ipython",
    "version": 3
   },
   "file_extension": ".py",
   "mimetype": "text/x-python",
   "name": "python",
   "nbconvert_exporter": "python",
   "pygments_lexer": "ipython3",
   "version": "3.12.7"
  }
 },
 "nbformat": 4,
 "nbformat_minor": 2
}
