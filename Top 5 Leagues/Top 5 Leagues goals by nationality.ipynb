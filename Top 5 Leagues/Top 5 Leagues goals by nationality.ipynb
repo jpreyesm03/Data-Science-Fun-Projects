{
 "cells": [
  {
   "cell_type": "markdown",
   "metadata": {},
   "source": [
    "## Data Parsing: Top 5 Football Leagues Historical Goalscorers by Nation\n",
    "Ever wondered the amount of goals that players from your country have scored in Europe Top 5 Football Leagues? Well, thanks to powerful libraries such as BeautifulSoup and Pandas, this is possible.\n",
    "\n",
    "All the data is collected from <link>https://www.worldfootball.net/goalgetter/</link>.\n",
    "\n",
    "*The data begins in the season of 1963-1964 because this was the year where Bundesliga was founded. Therefore, it would be unfair to consider previous years.\n",
    "\n",
    "#### Import the necessary libraries"
   ]
  },
  {
   "cell_type": "code",
   "execution_count": 1,
   "metadata": {},
   "outputs": [],
   "source": [
    "# import libraries for data manipulation\n",
    "import numpy as np\n",
    "import pandas as pd\n",
    "\n",
    "# import libraries for parsing\n",
    "import requests\n",
    "from bs4 import BeautifulSoup\n",
    "\n",
    "# to suppress warnings\n",
    "import warnings\n",
    "warnings.filterwarnings('ignore')"
   ]
  },
  {
   "cell_type": "markdown",
   "metadata": {},
   "source": [
    "#### Helper function to generate text for the columns having two dates as parameters."
   ]
  },
  {
   "cell_type": "code",
   "execution_count": 2,
   "metadata": {},
   "outputs": [],
   "source": [
    "def generate_seasons_years(from_date, to_date):\n",
    "    seasons_text = []\n",
    "    for year in range(from_date, to_date):\n",
    "        seasons_text.append(str(year) + \"-\" + str(year + 1))\n",
    "    return seasons_text"
   ]
  },
  {
   "cell_type": "markdown",
   "metadata": {},
   "source": [
    "#### Recursive function that fills the goals into the dictionary per season."
   ]
  },
  {
   "cell_type": "code",
   "execution_count": 3,
   "metadata": {},
   "outputs": [],
   "source": [
    "def fill_data(global_dict, country, season, goals, empty_seasons_dictionary=None):\n",
    "    if (country in global_dict.keys()):\n",
    "        global_dict[country][season] += goals\n",
    "        return   \n",
    "    else: # In case this is the first time that a country appears, firs it is initialized and then filled through recursion.\n",
    "        global_dict[country] = empty_seasons_dictionary.copy()\n",
    "        fill_data(global_dict, country, season, goals)"
   ]
  },
  {
   "cell_type": "markdown",
   "metadata": {},
   "source": [
    "#### Function that parses the webpages. Then it extracts the relevant keywords to populate the dictioanry"
   ]
  },
  {
   "cell_type": "code",
   "execution_count": 4,
   "metadata": {},
   "outputs": [],
   "source": [
    "def parse_and_fill(global_dict, url, season, empty_seasons_dictionary):\n",
    "    # Fetch the webpage content\n",
    "    response = requests.get(url)\n",
    "\n",
    "    # Parse the HTML using BeautifulSoup\n",
    "    soup = BeautifulSoup(response.content, 'html.parser')\n",
    "\n",
    "    # Locate the table containing the data (goal scorers, etc.)\n",
    "    table = soup.find('table', class_='standard_tabelle')  # Look for the specific class used in the table (in case there's multiple)\n",
    "\n",
    "    # Extract the data\n",
    "    rows = table.find_all('tr')\n",
    "    for row in rows[1:]:  # Skip the header row\n",
    "        cols = row.find_all('td')\n",
    "        cols = [col.text.strip() for col in cols]  # Clean the text\n",
    "        # Save important data\n",
    "        country = cols[3]\n",
    "        goals = int(cols[5].rsplit(\" \")[0])\n",
    "        # Use the data to populate the dictionary\n",
    "        fill_data(global_dict, country, season, goals, empty_seasons_dictionary)"
   ]
  },
  {
   "cell_type": "markdown",
   "metadata": {},
   "source": [
    "#### Function that produces the right url. Some webpages have a non-intuitive webpage, therefore some if statements are introduced"
   ]
  },
  {
   "cell_type": "code",
   "execution_count": 5,
   "metadata": {},
   "outputs": [],
   "source": [
    "def get_urls(league, season):\n",
    "    # Base website url\n",
    "    base_url = 'https://www.worldfootball.net/goalgetter/'\n",
    "    urls = []\n",
    "    \n",
    "    # Checks for specific cases\n",
    "    if (league == \"esp-primera-division\" and season == \"2016-2017\"):\n",
    "        urls.append(base_url + league + \"-\" + season + \"_2/\")\n",
    "    elif (league == \"esp-primera-division\" and season == \"1986-1987\"):\n",
    "        spain_leagues = [\"esp-primera-division-1986-1987-playoff-1-6\", \"esp-primera-division-1986-1987-playoff-13-18\", \"esp-primera-division-1986-1987-playoff-7-12\", \"esp-primera-division-1986-1987-vorrunde\"]\n",
    "        # In this season, the league was divided in sub-leagues. This for loop makes sure that all of them are included.\n",
    "        for spain_league in spain_leagues:\n",
    "            urls.append(base_url + spain_league + \"/\")  \n",
    "    else:\n",
    "        # The most common case.\n",
    "        urls.append(base_url + league + \"-\" + season + \"/\")\n",
    "    return urls"
   ]
  },
  {
   "cell_type": "markdown",
   "metadata": {},
   "source": [
    "#### Function that intializes a dictionary row with 0s as values."
   ]
  },
  {
   "cell_type": "code",
   "execution_count": 6,
   "metadata": {},
   "outputs": [],
   "source": [
    "def create_empty_seasons_dictionary(seasons):\n",
    "    # Empty dictionary is defined\n",
    "    seasons_dictionary = {} \n",
    "    # Populate the dictionary\n",
    "    for season in seasons:\n",
    "        seasons_dictionary[season] = 0\n",
    "    return seasons_dictionary"
   ]
  },
  {
   "cell_type": "markdown",
   "metadata": {},
   "source": [
    "#### Main Function that iterates over each season and each league and populates the dictionary using helper functions."
   ]
  },
  {
   "cell_type": "code",
   "execution_count": 7,
   "metadata": {},
   "outputs": [],
   "source": [
    "def extract_values_top_5_leagues(from_date, to_date):\n",
    "    # Sets the relevant parameters for the iterations\n",
    "    goals_per_nation_and_year = {}\n",
    "    seasons = generate_seasons_years(int(from_date), int(to_date))\n",
    "    empty_seasons_dictionary = create_empty_seasons_dictionary(seasons)\n",
    "    leagues = [\"eng-premier-league\", \"fra-ligue-1\", \"bundesliga\", \"ita-serie-a\", \"esp-primera-division\"]\n",
    "    \n",
    "    # Main loop that iterates through every leaguer per each season.\n",
    "    for season in seasons:\n",
    "        for league in leagues:\n",
    "            urls = get_urls(league, season)\n",
    "            for url in urls: # for the case where there are multiple urls in one league in a single season\n",
    "                parse_and_fill(goals_per_nation_and_year, url, season, empty_seasons_dictionary)  \n",
    "                \n",
    "    #Returns a sorted dictionary based on the name of the keys.\n",
    "    return dict(sorted(goals_per_nation_and_year.items()))"
   ]
  },
  {
   "cell_type": "markdown",
   "metadata": {},
   "source": [
    "##### Calls the main function"
   ]
  },
  {
   "cell_type": "code",
   "execution_count": 8,
   "metadata": {},
   "outputs": [],
   "source": [
    "# Main dictionary produced by the program stored in a variable\n",
    "final_dictionary = extract_values_top_5_leagues(1963,2024)"
   ]
  },
  {
   "cell_type": "code",
   "execution_count": 9,
   "metadata": {},
   "outputs": [],
   "source": [
    "# Check if an empty key exists and delete it if so\n",
    "if \"\" in final_dictionary:\n",
    "    del final_dictionary[\"\"]\n",
    "    \n",
    "### final_dictionary"
   ]
  },
  {
   "cell_type": "markdown",
   "metadata": {},
   "source": [
    "### Creation of CSV/Excel file.\n",
    "#### Initialize a list where the dictionary will be transformed."
   ]
  },
  {
   "cell_type": "code",
   "execution_count": 10,
   "metadata": {},
   "outputs": [],
   "source": [
    "list_for_csv = []\n",
    "# Name for the outer keys stored in the header\n",
    "headers = [\"Countries\"]\n",
    "for country, inner_dict in final_dictionary.items():\n",
    "    for key in inner_dict.keys():\n",
    "        # NAmes of the inner keys (seasons) stored in the header\n",
    "        headers.append(key)\n",
    "        \n",
    "    # Just add it once\n",
    "    break"
   ]
  },
  {
   "cell_type": "markdown",
   "metadata": {},
   "source": [
    "#### Now populate the list with the correct format"
   ]
  },
  {
   "cell_type": "code",
   "execution_count": 11,
   "metadata": {},
   "outputs": [],
   "source": [
    "# Loop that iterates over the inner dictionary items\n",
    "for country, inner_dict in final_dictionary.items():\n",
    "    # Creates a row with the country as its first value\n",
    "    country_goals = [country]\n",
    "    for value in inner_dict.values():\n",
    "        # Appends the goals per season in the right order\n",
    "        country_goals.append(int(value))\n",
    "    list_for_csv.append(country_goals)"
   ]
  },
  {
   "cell_type": "markdown",
   "metadata": {},
   "source": [
    "#### Makes the necessary arrangements to convert it into a dataframe"
   ]
  },
  {
   "cell_type": "code",
   "execution_count": 12,
   "metadata": {},
   "outputs": [],
   "source": [
    "# Saves the python list as a numpy array\n",
    "list_as_numpy_array = np.array(list_for_csv)\n",
    "# Creates the dataframe\n",
    "df = pd.DataFrame(list_as_numpy_array, columns=headers)\n",
    "# Forces numerical value\n",
    "df.iloc[:, 1:] = df.iloc[:, 1:].apply(pd.to_numeric)\n",
    "# Creates a column that accumulates all the goals per country\n",
    "df['sum'] = df.iloc[:, 1:].sum(axis=1)\n",
    "# Sorts the dataframe by cumulative total sum.\n",
    "df = df.sort_values(by=\"sum\", ascending = False)\n",
    "# Resets index to assure proper display\n",
    "df.reset_index(drop = True, inplace=True)\n",
    "\n",
    "# Saves the file as CSV or Excel\n",
    "\n",
    "### df.to_csv('top_5_leagues_countries_cumulative.csv', index=False)\n",
    "### df.to_excel('top_5_leagues_countries_cumulative.xlsx', index=False)\n"
   ]
  }
 ],
 "metadata": {
  "kernelspec": {
   "display_name": "Python 3",
   "language": "python",
   "name": "python3"
  },
  "language_info": {
   "codemirror_mode": {
    "name": "ipython",
    "version": 3
   },
   "file_extension": ".py",
   "mimetype": "text/x-python",
   "name": "python",
   "nbconvert_exporter": "python",
   "pygments_lexer": "ipython3",
   "version": "3.12.7"
  }
 },
 "nbformat": 4,
 "nbformat_minor": 2
}
