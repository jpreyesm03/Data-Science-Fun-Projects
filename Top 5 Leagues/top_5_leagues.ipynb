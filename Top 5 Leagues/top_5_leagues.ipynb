{
 "cells": [
  {
   "cell_type": "code",
   "execution_count": 46,
   "metadata": {},
   "outputs": [],
   "source": [
    "# import libraries for data manipulation\n",
    "import numpy as np\n",
    "import pandas as pd\n",
    "\n",
    "# import libraries for data visualization\n",
    "import matplotlib.pyplot as plt\n",
    "import seaborn as sns\n",
    "\n",
    "#import libraries for statistical calculations\n",
    "import scipy.stats as stats\n",
    "\n",
    "import requests\n",
    "from bs4 import BeautifulSoup\n",
    "\n",
    "# to suppress warnings\n",
    "import warnings\n",
    "warnings.filterwarnings('ignore')"
   ]
  },
  {
   "cell_type": "code",
   "execution_count": 47,
   "metadata": {},
   "outputs": [],
   "source": [
    "def generate_seasons_years(from_date, to_date):\n",
    "    seasons_text = []\n",
    "    for year in range(from_date, to_date):\n",
    "        seasons_text.append(str(year) + \"-\" + str(year + 1))\n",
    "    return seasons_text"
   ]
  },
  {
   "cell_type": "code",
   "execution_count": 48,
   "metadata": {},
   "outputs": [],
   "source": [
    "def fill_data(global_dict, country, season, goals, empty_seasons_dictionary=None):\n",
    "    if (country in global_dict.keys()):\n",
    "        global_dict[country][season] += goals\n",
    "        return   \n",
    "    else:\n",
    "        global_dict[country] = empty_seasons_dictionary.copy()\n",
    "        fill_data(global_dict, country, season, goals)"
   ]
  },
  {
   "cell_type": "code",
   "execution_count": 49,
   "metadata": {},
   "outputs": [],
   "source": [
    "def parse_and_fill(global_dict, url, season, empty_seasons_dictionary):\n",
    "    # Step 1: Fetch the webpage content\n",
    "    response = requests.get(url)\n",
    "\n",
    "    # Step 2: Parse the HTML using BeautifulSoup\n",
    "    soup = BeautifulSoup(response.content, 'html.parser')\n",
    "\n",
    "    # Step 3: Locate the table containing the data (goal scorers, etc.)\n",
    "    table = soup.find('table', class_='standard_tabelle')  # Look for the specific class used in the table\n",
    "\n",
    "    # Step 4: Extract the data\n",
    "    rows = table.find_all('tr')\n",
    "    for row in rows[1:]:  # Skip the header row\n",
    "        cols = row.find_all('td')\n",
    "        cols = [col.text.strip() for col in cols]  # Clean the text\n",
    "        country = cols[3]\n",
    "        goals = int(cols[5].rsplit(\" \")[0])\n",
    "        fill_data(global_dict, country, season, goals, empty_seasons_dictionary)"
   ]
  },
  {
   "cell_type": "code",
   "execution_count": 50,
   "metadata": {},
   "outputs": [],
   "source": [
    "def get_urls(league, season):\n",
    "    base_url = 'https://www.worldfootball.net/goalgetter/'\n",
    "    urls = []\n",
    "    if (league == \"esp-primera-division\" and season == \"2016-2017\"):\n",
    "        urls.append(base_url + league + \"-\" + season + \"_2/\")\n",
    "    elif (league == \"esp-primera-division\" and season == \"1986-1987\"):\n",
    "        spain_leagues = [\"esp-primera-division-1986-1987-playoff-1-6\", \"esp-primera-division-1986-1987-playoff-13-18\", \"esp-primera-division-1986-1987-playoff-7-12\", \"esp-primera-division-1986-1987-vorrunde\"]\n",
    "        for spain_league in spain_leagues:\n",
    "            urls.append(base_url + spain_league + \"/\")  \n",
    "    else:\n",
    "        urls.append(base_url + league + \"-\" + season + \"/\")\n",
    "    return urls"
   ]
  },
  {
   "cell_type": "code",
   "execution_count": 51,
   "metadata": {},
   "outputs": [],
   "source": [
    "def create_empty_seasons_dictionary(seasons):\n",
    "    seasons_dictionary = {} \n",
    "    for season in seasons:\n",
    "        seasons_dictionary[season] = 0\n",
    "    return seasons_dictionary"
   ]
  },
  {
   "cell_type": "code",
   "execution_count": 52,
   "metadata": {},
   "outputs": [],
   "source": [
    "def extract_values_top_5_leagues(from_date, to_date):\n",
    "    goals_per_nation_and_year = {}\n",
    "    seasons = generate_seasons_years(int(from_date), int(to_date))\n",
    "    empty_seasons_dictionary = create_empty_seasons_dictionary(seasons)\n",
    "    leagues = [\"eng-premier-league\", \"fra-ligue-1\", \"bundesliga\", \"ita-serie-a\", \"esp-primera-division\"]\n",
    "    \n",
    "    for season in seasons:\n",
    "        for league in leagues:\n",
    "            urls = get_urls(league, season)\n",
    "            for url in urls:\n",
    "                parse_and_fill(goals_per_nation_and_year, url, season, empty_seasons_dictionary)\n",
    "            \n",
    "    return dict(sorted(goals_per_nation_and_year.items()))"
   ]
  },
  {
   "cell_type": "code",
   "execution_count": 53,
   "metadata": {},
   "outputs": [],
   "source": [
    "final_dictionary = extract_values_top_5_leagues(1985,1988)"
   ]
  },
  {
   "cell_type": "code",
   "execution_count": 54,
   "metadata": {},
   "outputs": [
    {
     "data": {
      "text/plain": [
       "{'Algeria': {'1985-1986': 4390, '1986-1987': 4317, '1987-1988': 4185},\n",
       " 'Argentina': {'1985-1986': 4390, '1986-1987': 4317, '1987-1988': 4185},\n",
       " 'Australia': {'1985-1986': 4390, '1986-1987': 4317, '1987-1988': 4185},\n",
       " 'Austria': {'1985-1986': 4390, '1986-1987': 4317, '1987-1988': 4185},\n",
       " 'Belgium': {'1985-1986': 4390, '1986-1987': 4317, '1987-1988': 4185},\n",
       " 'Bosnia-Herzegovina': {'1985-1986': 4390,\n",
       "  '1986-1987': 4317,\n",
       "  '1987-1988': 4185},\n",
       " 'Brazil': {'1985-1986': 4390, '1986-1987': 4317, '1987-1988': 4185},\n",
       " 'Bulgaria': {'1985-1986': 4390, '1986-1987': 4317, '1987-1988': 4185},\n",
       " 'Cameroon': {'1985-1986': 4390, '1986-1987': 4317, '1987-1988': 4185},\n",
       " 'Canada': {'1985-1986': 4390, '1986-1987': 4317, '1987-1988': 4185},\n",
       " 'Chile': {'1985-1986': 4390, '1986-1987': 4317, '1987-1988': 4185},\n",
       " 'Congo DR': {'1985-1986': 4390, '1986-1987': 4317, '1987-1988': 4185},\n",
       " 'Croatia': {'1985-1986': 4390, '1986-1987': 4317, '1987-1988': 4185},\n",
       " 'Czech Republic': {'1985-1986': 4390, '1986-1987': 4317, '1987-1988': 4185},\n",
       " 'Denmark': {'1985-1986': 4390, '1986-1987': 4317, '1987-1988': 4185},\n",
       " 'El Salvador': {'1985-1986': 4390, '1986-1987': 4317, '1987-1988': 4185},\n",
       " 'England': {'1985-1986': 4390, '1986-1987': 4317, '1987-1988': 4185},\n",
       " 'France': {'1985-1986': 4390, '1986-1987': 4317, '1987-1988': 4185},\n",
       " 'Gabon': {'1985-1986': 4390, '1986-1987': 4317, '1987-1988': 4185},\n",
       " 'Germany': {'1985-1986': 4390, '1986-1987': 4317, '1987-1988': 4185},\n",
       " 'Greece': {'1985-1986': 4390, '1986-1987': 4317, '1987-1988': 4185},\n",
       " 'Guadeloupe': {'1985-1986': 4390, '1986-1987': 4317, '1987-1988': 4185},\n",
       " 'Hungary': {'1985-1986': 4390, '1986-1987': 4317, '1987-1988': 4185},\n",
       " 'Iceland': {'1985-1986': 4390, '1986-1987': 4317, '1987-1988': 4185},\n",
       " 'Ireland': {'1985-1986': 4390, '1986-1987': 4317, '1987-1988': 4185},\n",
       " 'Italy': {'1985-1986': 4390, '1986-1987': 4317, '1987-1988': 4185},\n",
       " 'Ivory Coast': {'1985-1986': 4390, '1986-1987': 4317, '1987-1988': 4185},\n",
       " 'Jamaica': {'1985-1986': 4390, '1986-1987': 4317, '1987-1988': 4185},\n",
       " 'Japan': {'1985-1986': 4390, '1986-1987': 4317, '1987-1988': 4185},\n",
       " 'Kosovo': {'1985-1986': 4390, '1986-1987': 4317, '1987-1988': 4185},\n",
       " 'Mexico': {'1985-1986': 4390, '1986-1987': 4317, '1987-1988': 4185},\n",
       " 'Morocco': {'1985-1986': 4390, '1986-1987': 4317, '1987-1988': 4185},\n",
       " 'Netherlands': {'1985-1986': 4390, '1986-1987': 4317, '1987-1988': 4185},\n",
       " 'Nigeria': {'1985-1986': 4390, '1986-1987': 4317, '1987-1988': 4185},\n",
       " 'North Macedonia': {'1985-1986': 4390, '1986-1987': 4317, '1987-1988': 4185},\n",
       " 'Northern Ireland': {'1985-1986': 4390, '1986-1987': 4317, '1987-1988': 4185},\n",
       " 'Norway': {'1985-1986': 4390, '1986-1987': 4317, '1987-1988': 4185},\n",
       " 'Paraguay': {'1985-1986': 4390, '1986-1987': 4317, '1987-1988': 4185},\n",
       " 'Peru': {'1985-1986': 4390, '1986-1987': 4317, '1987-1988': 4185},\n",
       " 'Poland': {'1985-1986': 4390, '1986-1987': 4317, '1987-1988': 4185},\n",
       " 'Portugal': {'1985-1986': 4390, '1986-1987': 4317, '1987-1988': 4185},\n",
       " 'Romania': {'1985-1986': 4390, '1986-1987': 4317, '1987-1988': 4185},\n",
       " 'San Marino': {'1985-1986': 4390, '1986-1987': 4317, '1987-1988': 4185},\n",
       " 'Scotland': {'1985-1986': 4390, '1986-1987': 4317, '1987-1988': 4185},\n",
       " 'Senegal': {'1985-1986': 4390, '1986-1987': 4317, '1987-1988': 4185},\n",
       " 'Serbia': {'1985-1986': 4390, '1986-1987': 4317, '1987-1988': 4185},\n",
       " 'Slovenia': {'1985-1986': 4390, '1986-1987': 4317, '1987-1988': 4185},\n",
       " 'South Africa': {'1985-1986': 4390, '1986-1987': 4317, '1987-1988': 4185},\n",
       " 'South Korea': {'1985-1986': 4390, '1986-1987': 4317, '1987-1988': 4185},\n",
       " 'Spain': {'1985-1986': 4390, '1986-1987': 4317, '1987-1988': 4185},\n",
       " 'Sweden': {'1985-1986': 4390, '1986-1987': 4317, '1987-1988': 4185},\n",
       " 'Turkey': {'1985-1986': 4390, '1986-1987': 4317, '1987-1988': 4185},\n",
       " 'USA': {'1985-1986': 4390, '1986-1987': 4317, '1987-1988': 4185},\n",
       " 'Uruguay': {'1985-1986': 4390, '1986-1987': 4317, '1987-1988': 4185},\n",
       " 'Wales': {'1985-1986': 4390, '1986-1987': 4317, '1987-1988': 4185}}"
      ]
     },
     "execution_count": 54,
     "metadata": {},
     "output_type": "execute_result"
    }
   ],
   "source": [
    "final_dictionary"
   ]
  }
 ],
 "metadata": {
  "kernelspec": {
   "display_name": "Python 3",
   "language": "python",
   "name": "python3"
  },
  "language_info": {
   "codemirror_mode": {
    "name": "ipython",
    "version": 3
   },
   "file_extension": ".py",
   "mimetype": "text/x-python",
   "name": "python",
   "nbconvert_exporter": "python",
   "pygments_lexer": "ipython3",
   "version": "3.12.7"
  }
 },
 "nbformat": 4,
 "nbformat_minor": 2
}
